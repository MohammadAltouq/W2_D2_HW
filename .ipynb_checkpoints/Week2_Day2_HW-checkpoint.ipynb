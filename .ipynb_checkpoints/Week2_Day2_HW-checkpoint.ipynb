{
 "cells": [
  {
   "cell_type": "markdown",
   "id": "08e8a772",
   "metadata": {},
   "source": [
    "# Exercises"
   ]
  },
  {
   "cell_type": "markdown",
   "id": "5ae1bb90",
   "metadata": {},
   "source": [
    "## Exercise 1 <br>\n",
    "<p>Using the given list, print out a filtered version of the list with only the numbers that are less than ten</b></i></p><br>\n"
   ]
  },
  {
   "cell_type": "code",
   "execution_count": 40,
   "id": "8f8e1ab4",
   "metadata": {},
   "outputs": [
    {
     "name": "stdout",
     "output_type": "stream",
     "text": [
      "[1, 5, 8, 9]\n"
     ]
    }
   ],
   "source": [
    "alist = [1,11,14,5,8,9]\n",
    "def sorted(arr,x):\n",
    "    sorted_arr = []\n",
    "    for i in arr:\n",
    "        if i < x:\n",
    "            sorted_arr.append(i)\n",
    "    return sorted_arr\n",
    "\n",
    "print(sorted(alist,10))"
   ]
  },
  {
   "cell_type": "markdown",
   "id": "5fe20d67",
   "metadata": {},
   "source": [
    "## Exercise 2 <br>\n",
    "<p>Merge and sort the two lists below<br>\n",
    "<b><i>Hint: You can use the .sort() method</i></b></p>"
   ]
  },
  {
   "cell_type": "code",
   "execution_count": 41,
   "id": "e936dcb0",
   "metadata": {},
   "outputs": [
    {
     "name": "stdout",
     "output_type": "stream",
     "text": [
      "[1, 2, 3, 3, 4, 4, 5, 5, 6, 6, 7, 8, 10]\n"
     ]
    }
   ],
   "source": [
    "l_1 = [1,2,3,4,5,6]\n",
    "l_2 = [3,4,5,6,7,8,10]\n",
    "\n",
    "def m_lists(arr1,arr2):\n",
    "\n",
    "    arr3 = arr1 + arr2\n",
    "    arr3.sort()\n",
    "    return arr3\n",
    "\n",
    "print(m_lists(l_1,l_2))"
   ]
  },
  {
   "cell_type": "markdown",
   "id": "d5404e2a",
   "metadata": {},
   "source": [
    "## Exercise 3 <br>\n",
    "<p>Square every number from 1 to 15<br>\n"
   ]
  },
  {
   "cell_type": "code",
   "execution_count": 42,
   "id": "d8f16303",
   "metadata": {},
   "outputs": [
    {
     "name": "stdout",
     "output_type": "stream",
     "text": [
      "1 4 9 16 25 36 49 64 81 100 121 144 169 196 225 "
     ]
    }
   ],
   "source": [
    "def s_num(s, e):\n",
    "    s_arr = [i**2 for i in range(s,e+1)]\n",
    "    for i in s_arr:\n",
    "        print(i, end=\" \")\n",
    "        \n",
    "s_num(1,15)\n"
   ]
  },
  {
   "cell_type": "markdown",
   "id": "b58c7472",
   "metadata": {},
   "source": [
    "## Exercise 4<br>\n",
    "<p>Using List Comprehension and the given list, print out a filtered list with \n",
    "only the names that start with the letter 'a'. \n",
    "The names in the filtered list should be title cased and have no whitespace.<br>\n"
   ]
  },
  {
   "cell_type": "code",
   "execution_count": 43,
   "id": "4c5a7763",
   "metadata": {
    "scrolled": false
   },
   "outputs": [
    {
     "name": "stdout",
     "output_type": "stream",
     "text": [
      "['Amy', 'Alex']\n"
     ]
    }
   ],
   "source": [
    "names_list = ['   amy', 'Briant', 'Ryan ', ' Alex', 'steve', '  ']\n",
    "#expected output = ['Amy', 'Alex']\n",
    "print([i.strip().title() for i in names_list if i.strip()[:1].lower() == 'a'])"
   ]
  },
  {
   "cell_type": "markdown",
   "id": "4144ef56",
   "metadata": {},
   "source": [
    "## Exercise 5 <br>\n",
    "<p>Print all Prime numbers from 1 to 100<br>\n"
   ]
  },
  {
   "cell_type": "code",
   "execution_count": 44,
   "id": "181f04ad",
   "metadata": {},
   "outputs": [
    {
     "name": "stdout",
     "output_type": "stream",
     "text": [
      "[2, 3, 5, 7, 11, 13, 17, 19, 23, 29, 31, 37, 41, 43, 47, 53, 59, 61, 67, 71, 73, 79, 83, 89, 97]\n"
     ]
    }
   ],
   "source": [
    "def prime_num(num1,num2):\n",
    "    arr=[]\n",
    "    while num1 <= num2:\n",
    "         s = True\n",
    "         if num1 == 2:\n",
    "              arr.append(num1)\n",
    "         elif num1 > 2:\n",
    "              for i in range(2,num1):\n",
    "                   if num1 % i == 0:\n",
    "                        s = False\n",
    "                        break\n",
    "              if s == True:\n",
    "                   arr.append(num1)\n",
    "         num1 +=1\n",
    "    return arr\n",
    "                \n",
    "print(prime_num(1,100))   "
   ]
  }
 ],
 "metadata": {
  "kernelspec": {
   "display_name": "Python 3 (ipykernel)",
   "language": "python",
   "name": "python3"
  },
  "language_info": {
   "codemirror_mode": {
    "name": "ipython",
    "version": 3
   },
   "file_extension": ".py",
   "mimetype": "text/x-python",
   "name": "python",
   "nbconvert_exporter": "python",
   "pygments_lexer": "ipython3",
   "version": "3.9.13"
  }
 },
 "nbformat": 4,
 "nbformat_minor": 5
}
